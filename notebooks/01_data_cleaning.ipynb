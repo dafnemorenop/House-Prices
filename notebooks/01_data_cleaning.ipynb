{
 "cells": [
  {
   "cell_type": "markdown",
   "metadata": {},
   "source": [
    "### Importación de bibliotecas necesarias para la limpieza"
   ]
  },
  {
   "cell_type": "code",
   "execution_count": 20,
   "metadata": {},
   "outputs": [],
   "source": [
    "import pandas as pd\n",
    "import seaborn as sns\n",
    "import matplotlib.pyplot as plt"
   ]
  },
  {
   "cell_type": "markdown",
   "metadata": {},
   "source": [
    "### Carga de los conjuntos de datos de entrenamiento y prueba del reto"
   ]
  },
  {
   "cell_type": "code",
   "execution_count": 21,
   "metadata": {},
   "outputs": [],
   "source": [
    "df_train = pd.read_csv('../data/train.csv')\n",
    "df_test = pd.read_csv('../data/test.csv')"
   ]
  },
  {
   "cell_type": "markdown",
   "metadata": {},
   "source": [
    "### Descripción de los datos\n",
    "\n",
    "\n",
    "| Columna              | Descripción                                                |\n",
    "|----------------------|-----------------------------------------------------------|\n",
    "| `SalePrice`          | Precio de venta de la propiedad en dólares. Esta es la variable objetivo que se intenta predecir. |\n",
    "| `MSSubClass`         | Clase del edificio.                                       |\n",
    "| `MSZoning`           | Clasificación de zonificación general.                    |\n",
    "| `LotFrontage`        | Pies lineales de calle conectados a la propiedad.        |\n",
    "| `LotArea`            | Tamaño del lote en pies cuadrados.                        |\n",
    "| `Street`             | Tipo de acceso por carretera.                             |\n",
    "| `Alley`              | Tipo de acceso por callejón.                             |\n",
    "| `LotShape`           | Forma general de la propiedad.                           |\n",
    "| `LandContour`        | Planicidad de la propiedad.                              |\n",
    "| `Utilities`          | Tipo de servicios disponibles.                           |\n",
    "| `LotConfig`          | Configuración del lote.                                  |\n",
    "| `LandSlope`          | Pendiente de la propiedad.                               |\n",
    "| `Neighborhood`       | Ubicaciones físicas dentro de los límites de la ciudad de Ames. |\n",
    "| `Condition1`         | Proximidad a la carretera principal o ferrocarril.      |\n",
    "| `Condition2`         | Proximidad a la carretera principal o ferrocarril (si hay un segundo presente). |\n",
    "| `BldgType`           | Tipo de vivienda.                                        |\n",
    "| `HouseStyle`         | Estilo de la vivienda.                                   |\n",
    "| `OverallQual`        | Calidad general de los materiales y acabados.           |\n",
    "| `OverallCond`        | Calificación de la condición general.                    |\n",
    "| `YearBuilt`          | Fecha de construcción original.                          |\n",
    "| `YearRemodAdd`       | Fecha de remodelación.                                   |\n",
    "| `RoofStyle`          | Tipo de techo.                                          |\n",
    "| `RoofMatl`           | Material del techo.                                      |\n",
    "| `Exterior1st`        | Recubrimiento exterior de la casa.                       |\n",
    "| `Exterior2nd`        | Recubrimiento exterior de la casa (si hay más de un material). |\n",
    "| `MasVnrType`         | Tipo de revestimiento de mampostería.                    |\n",
    "| `MasVnrArea`         | Área de revestimiento de mampostería en pies cuadrados.  |\n",
    "| `ExterQual`          | Calidad del material exterior.                            |\n",
    "| `ExterCond`          | Condición presente del material en el exterior.         |\n",
    "| `Foundation`         | Tipo de fundación.                                      |\n",
    "| `BsmtQual`           | Altura del sótano.                                      |\n",
    "| `BsmtCond`           | Condición general del sótano.                           |\n",
    "| `BsmtExposure`        | Paredes de sótano de nivel de salida o jardín.          |\n",
    "| `BsmtFinType1`       | Calidad del área terminada del sótano.                   |\n",
    "| `BsmtFinSF1`         | Pies cuadrados terminados del tipo 1.                    |\n",
    "| `BsmtFinType2`       | Calidad del segundo área terminada (si está presente).   |\n",
    "| `BsmtFinSF2`         | Pies cuadrados terminados del tipo 2.                    |\n",
    "| `BsmtUnfSF`          | Pies cuadrados sin terminar del área del sótano.         |\n",
    "| `TotalBsmtSF`        | Pies cuadrados totales del área del sótano.              |\n",
    "| `Heating`            | Tipo de calefacción.                                     |\n",
    "| `HeatingQC`          | Calidad y condición de la calefacción.                   |\n",
    "| `CentralAir`         | Aire acondicionado central.                              |\n",
    "| `Electrical`         | Sistema eléctrico.                                       |\n",
    "| `1stFlrSF`           | Pies cuadrados del primer piso.                           |\n",
    "| `2ndFlrSF`           | Pies cuadrados del segundo piso.                          |\n",
    "| `LowQualFinSF`       | Pies cuadrados de calidad baja terminados (todos los pisos). |\n",
    "| `GrLivArea`          | Pies cuadrados de área habitable sobre el nivel del suelo. |\n",
    "| `BsmtFullBath`       | Baños completos en el sótano.                            |\n",
    "| `BsmtHalfBath`       | Baños medios en el sótano.                              |\n",
    "| `FullBath`           | Baños completos sobre el nivel del suelo.                |\n",
    "| `HalfBath`           | Baños medios sobre el nivel del suelo.                   |\n",
    "| `Bedroom`            | Número de dormitorios sobre el nivel del sótano.         |\n",
    "| `Kitchen`            | Número de cocinas.                                      |\n",
    "| `KitchenQual`        | Calidad de la cocina.                                    |\n",
    "| `TotRmsAbvGrd`       | Total de habitaciones sobre el nivel del suelo (no incluye baños). |\n",
    "| `Functional`         | Calificación de funcionalidad del hogar.                 |\n",
    "| `Fireplaces`         | Número de chimeneas.                                    |\n",
    "| `FireplaceQu`        | Calidad de la chimenea.                                  |\n",
    "| `GarageType`         | Ubicación del garaje.                                   |\n",
    "| `GarageYrBlt`        | Año en que se construyó el garaje.                      |\n",
    "| `GarageFinish`       | Acabado interior del garaje.                             |\n",
    "| `GarageCars`         | Tamaño del garaje en capacidad de automóviles.          |\n",
    "| `GarageArea`         | Tamaño del garaje en pies cuadrados.                     |\n",
    "| `GarageQual`         | Calidad del garaje.                                      |\n",
    "| `GarageCond`         | Condición del garaje.                                    |\n",
    "| `PavedDrive`         | Entrada pavimentada.                                     |\n",
    "| `WoodDeckSF`         | Área de la terraza de madera en pies cuadrados.          |\n",
    "| `OpenPorchSF`        | Área del porche abierto en pies cuadrados.               |\n",
    "| `EnclosedPorch`      | Área del porche cerrado en pies cuadrados.               |\n",
    "| `3SsnPorch`          | Área del porche de tres estaciones en pies cuadrados.    |\n",
    "| `ScreenPorch`        | Área del porche con mosquitero en pies cuadrados.       |\n",
    "| `PoolArea`           | Área de la piscina en pies cuadrados.                    |\n",
    "| `PoolQC`             | Calidad de la piscina.                                   |\n",
    "| `Fence`              | Calidad de la cerca.                                     |\n",
    "| `MiscFeature`        | Característica miscelánea no cubierta en otras categorías. |\n",
    "| `MiscVal`            | Valor en dólares de la característica miscelánea.       |\n",
    "| `MoSold`             | Mes de venta.                                           |\n",
    "| `YrSold`             | Año de venta.                                           |\n",
    "| `SaleType`           | Tipo de venta.                                          |\n",
    "| `SaleCondition`      | Condición de la venta.                                  |"
   ]
  },
  {
   "cell_type": "markdown",
   "metadata": {},
   "source": [
    "## Verificación y validación de los datos"
   ]
  },
  {
   "cell_type": "markdown",
   "metadata": {},
   "source": [
    "### Comprobación de IDs duplicados en train y test"
   ]
  },
  {
   "cell_type": "code",
   "execution_count": 22,
   "metadata": {},
   "outputs": [
    {
     "name": "stdout",
     "output_type": "stream",
     "text": [
      "Duplicados en 'Id' de df_train: 0\n",
      "Duplicados en 'Id' de df_test: 0\n"
     ]
    }
   ],
   "source": [
    "duplicados_id_train = df_train['Id'].duplicated().sum()\n",
    "duplicados_id_test = df_test['Id'].duplicated().sum()\n",
    "\n",
    "print(\"Duplicados en 'Id' de df_train:\", duplicados_id_train)\n",
    "print(\"Duplicados en 'Id' de df_test:\", duplicados_id_test)"
   ]
  },
  {
   "cell_type": "code",
   "execution_count": 23,
   "metadata": {},
   "outputs": [
    {
     "name": "stdout",
     "output_type": "stream",
     "text": [
      "Cantidad de IDs duplicados entre df_train y df_test: 0\n"
     ]
    }
   ],
   "source": [
    "ids_train = set(df_train['Id'])\n",
    "ids_test = set(df_test['Id'])\n",
    "\n",
    "duplicados_id_en_ambos = ids_train.intersection(ids_test)\n",
    "\n",
    "print(\"Cantidad de IDs duplicados entre df_train y df_test:\", len(duplicados_id_en_ambos))"
   ]
  },
  {
   "cell_type": "markdown",
   "metadata": {},
   "source": [
    "### Cálculo inicial del número de datos del que se parte"
   ]
  },
  {
   "cell_type": "code",
   "execution_count": 24,
   "metadata": {},
   "outputs": [
    {
     "name": "stdout",
     "output_type": "stream",
     "text": [
      "Número de datos en entrenamiento: 1460\n",
      "Número de datos en prueba: 1459\n"
     ]
    }
   ],
   "source": [
    "num_datos_entrenamiento = df_train.shape[0]\n",
    "num_datos_prueba = df_test.shape[0]\n",
    "print(f\"Número de datos en entrenamiento: {num_datos_entrenamiento}\")\n",
    "print(f\"Número de datos en prueba: {num_datos_prueba}\")"
   ]
  },
  {
   "cell_type": "code",
   "execution_count": 25,
   "metadata": {},
   "outputs": [
    {
     "name": "stdout",
     "output_type": "stream",
     "text": [
      "Porcentaje de datos de entrenamiento: 50.02%\n",
      "Porcentaje de datos de prueba: 49.98%\n"
     ]
    }
   ],
   "source": [
    "total_filas = num_datos_entrenamiento + num_datos_prueba\n",
    "\n",
    "porcentaje_train = (num_datos_entrenamiento / total_filas) * 100\n",
    "porcentaje_test = (num_datos_prueba / total_filas) * 100\n",
    "\n",
    "print(f\"Porcentaje de datos de entrenamiento: {porcentaje_train:.2f}%\")\n",
    "print(f\"Porcentaje de datos de prueba: {porcentaje_test:.2f}%\")"
   ]
  },
  {
   "cell_type": "markdown",
   "metadata": {},
   "source": [
    "### Verificación de columnas"
   ]
  },
  {
   "cell_type": "code",
   "execution_count": 26,
   "metadata": {},
   "outputs": [
    {
     "name": "stdout",
     "output_type": "stream",
     "text": [
      "Número de columnas en df_train: 81\n",
      "Número de columnas en df_test: 80\n"
     ]
    }
   ],
   "source": [
    "print(\"Número de columnas en df_train:\", len(df_train.columns))\n",
    "print(\"Número de columnas en df_test:\", len(df_test.columns))"
   ]
  },
  {
   "cell_type": "markdown",
   "metadata": {},
   "source": [
    "Sólo hay diferencia en la columna **`SalePrice`**, que no aparece en el conjunto de prueba porque es la variable objetivo."
   ]
  },
  {
   "cell_type": "code",
   "execution_count": 27,
   "metadata": {},
   "outputs": [
    {
     "name": "stdout",
     "output_type": "stream",
     "text": [
      "Columnas en df_train pero no en df_test: {'SalePrice'}\n",
      "Columnas en df_test pero no en df_train: set()\n"
     ]
    }
   ],
   "source": [
    "columnas_train = set(df_train.columns)\n",
    "columnas_test = set(df_test.columns)\n",
    "\n",
    "columnas_faltantes_train = columnas_test - columnas_train\n",
    "columnas_faltantes_test = columnas_train - columnas_test\n",
    "\n",
    "print(\"Columnas en df_train pero no en df_test:\", columnas_faltantes_test)\n",
    "print(\"Columnas en df_test pero no en df_train:\", columnas_faltantes_train)\n"
   ]
  },
  {
   "cell_type": "markdown",
   "metadata": {},
   "source": [
    "### Comprobación de tipos de dato\n",
    "\n",
    "Se comprueban los tipos de dato en ambos conjuntos de datos para verificar si son iguales. Las únicas diferencias encontradas son entre números enteros y flotantes, lo cual no afecta al análisis ni al modelo que se va a construir."
   ]
  },
  {
   "cell_type": "code",
   "execution_count": 28,
   "metadata": {},
   "outputs": [
    {
     "name": "stdout",
     "output_type": "stream",
     "text": [
      "La columna 'BsmtFullBath' tiene tipos de datos diferentes en train y test: int64 vs float64\n",
      "La columna 'GarageCars' tiene tipos de datos diferentes en train y test: int64 vs float64\n",
      "La columna 'TotalBsmtSF' tiene tipos de datos diferentes en train y test: int64 vs float64\n",
      "La columna 'GarageArea' tiene tipos de datos diferentes en train y test: int64 vs float64\n",
      "La columna 'BsmtFinSF2' tiene tipos de datos diferentes en train y test: int64 vs float64\n",
      "La columna 'BsmtHalfBath' tiene tipos de datos diferentes en train y test: int64 vs float64\n",
      "La columna 'BsmtUnfSF' tiene tipos de datos diferentes en train y test: int64 vs float64\n",
      "La columna 'BsmtFinSF1' tiene tipos de datos diferentes en train y test: int64 vs float64\n"
     ]
    }
   ],
   "source": [
    "tipos_datos_train = df_train.dtypes\n",
    "tipos_datos_test = df_test.dtypes\n",
    "\n",
    "columnas_comunes = set(df_train.columns) & set(df_test.columns)\n",
    "\n",
    "for columna in columnas_comunes:\n",
    "    if tipos_datos_train[columna] != tipos_datos_test[columna]:\n",
    "        print(f\"La columna '{columna}' tiene tipos de datos diferentes en train y test: {tipos_datos_train[columna]} vs {tipos_datos_test[columna]}\")"
   ]
  },
  {
   "cell_type": "markdown",
   "metadata": {},
   "source": [
    "### Comprobación de categorías en columnas de tipo object\n",
    "\n",
    "Se procede a comprobar si las columnas de tipo `object` en los dos DataFrames tienen las mismas categorías. Esta verificación es importante para asegurar que los datos categóricos son consistentes entre los conjuntos de entrenamiento y prueba, porque puede influir en el rendimiento del modelo.\n",
    "\n",
    "Se comprueba que hay diferencias en los valores únicos de algunas columnas, se abordarán las discrepancias identificadas durante el EDA para determinar cómo manejarlas de manera adecuada."
   ]
  },
  {
   "cell_type": "code",
   "execution_count": 29,
   "metadata": {},
   "outputs": [
    {
     "name": "stdout",
     "output_type": "stream",
     "text": [
      "'Condition2' tiene valores diferentes.\n",
      "Valores únicos en train: {'RRNn', 'RRAe', 'RRAn'}\n",
      "'Utilities' tiene valores diferentes.\n",
      "Valores únicos en train: {'NoSeWa'}\n",
      "'HouseStyle' tiene valores diferentes.\n",
      "Valores únicos en train: {'2.5Fin'}\n",
      "'RoofMatl' tiene valores diferentes.\n",
      "Valores únicos en train: {'Roll', 'Metal', 'ClyTile', 'Membran'}\n",
      "'Exterior1st' tiene valores diferentes.\n",
      "Valores únicos en train: {'Stone', 'ImStucc'}\n",
      "'GarageQual' tiene valores diferentes.\n",
      "Valores únicos en train: {'Ex'}\n",
      "'Heating' tiene valores diferentes.\n",
      "Valores únicos en train: {'OthW', 'Floor'}\n",
      "'MiscFeature' tiene valores diferentes.\n",
      "Valores únicos en train: {'TenC'}\n",
      "'Exterior2nd' tiene valores diferentes.\n",
      "Valores únicos en train: {'Other'}\n",
      "'Electrical' tiene valores diferentes.\n",
      "Valores únicos en train: {'Mix'}\n",
      "'PoolQC' tiene valores diferentes.\n",
      "Valores únicos en train: {'Fa'}\n"
     ]
    }
   ],
   "source": [
    "columnas_object_train = df_train.select_dtypes(include=['object']).columns\n",
    "columnas_object_test = df_test.select_dtypes(include=['object']).columns\n",
    "\n",
    "for columna in set(columnas_object_train) & set(columnas_object_test):\n",
    "    valores_unicos_train = set(df_train[columna].dropna().unique())\n",
    "    valores_unicos_test = set(df_test[columna].dropna().unique())\n",
    "    \n",
    "    if valores_unicos_train != valores_unicos_test:\n",
    "        solo_en_train = valores_unicos_train - valores_unicos_test\n",
    "        solo_en_test = valores_unicos_test - valores_unicos_train\n",
    "        \n",
    "        print(f\"'{columna}' tiene valores diferentes.\")\n",
    "        \n",
    "        if solo_en_train:\n",
    "            print(f\"Valores únicos en train: {solo_en_train}\")\n",
    "        if solo_en_test:\n",
    "            print(f\"Valores únicos en test: {solo_en_test}\")"
   ]
  },
  {
   "cell_type": "markdown",
   "metadata": {},
   "source": [
    "### Número de nulos en los DF"
   ]
  },
  {
   "cell_type": "code",
   "execution_count": 30,
   "metadata": {},
   "outputs": [
    {
     "name": "stdout",
     "output_type": "stream",
     "text": [
      "Número de NaN en df_train:\n",
      "LotFrontage      259\n",
      "Alley           1369\n",
      "MasVnrType       872\n",
      "MasVnrArea         8\n",
      "BsmtQual          37\n",
      "BsmtCond          37\n",
      "BsmtExposure      38\n",
      "BsmtFinType1      37\n",
      "BsmtFinType2      38\n",
      "Electrical         1\n",
      "FireplaceQu      690\n",
      "GarageType        81\n",
      "GarageYrBlt       81\n",
      "GarageFinish      81\n",
      "GarageQual        81\n",
      "GarageCond        81\n",
      "PoolQC          1453\n",
      "Fence           1179\n",
      "MiscFeature     1406\n",
      "dtype: int64\n"
     ]
    }
   ],
   "source": [
    "nan_train = df_train.isna().sum()\n",
    "print(\"Número de NaN en df_train:\")\n",
    "print(nan_train[nan_train > 0]) "
   ]
  },
  {
   "cell_type": "code",
   "execution_count": 31,
   "metadata": {},
   "outputs": [
    {
     "name": "stdout",
     "output_type": "stream",
     "text": [
      "\n",
      "Número de NaN en df_test:\n",
      "MSZoning           4\n",
      "LotFrontage      227\n",
      "Alley           1352\n",
      "Utilities          2\n",
      "Exterior1st        1\n",
      "Exterior2nd        1\n",
      "MasVnrType       894\n",
      "MasVnrArea        15\n",
      "BsmtQual          44\n",
      "BsmtCond          45\n",
      "BsmtExposure      44\n",
      "BsmtFinType1      42\n",
      "BsmtFinSF1         1\n",
      "BsmtFinType2      42\n",
      "BsmtFinSF2         1\n",
      "BsmtUnfSF          1\n",
      "TotalBsmtSF        1\n",
      "BsmtFullBath       2\n",
      "BsmtHalfBath       2\n",
      "KitchenQual        1\n",
      "Functional         2\n",
      "FireplaceQu      730\n",
      "GarageType        76\n",
      "GarageYrBlt       78\n",
      "GarageFinish      78\n",
      "GarageCars         1\n",
      "GarageArea         1\n",
      "GarageQual        78\n",
      "GarageCond        78\n",
      "PoolQC          1456\n",
      "Fence           1169\n",
      "MiscFeature     1408\n",
      "SaleType           1\n",
      "dtype: int64\n"
     ]
    }
   ],
   "source": [
    "nan_test = df_test.isna().sum()\n",
    "print(\"\\nNúmero de NaN en df_test:\")\n",
    "print(nan_test[nan_test > 0]) "
   ]
  },
  {
   "cell_type": "markdown",
   "metadata": {},
   "source": [
    "## Decisión de juntar los datos de entrenamiento y prueba\n",
    "\n",
    "Se opta por juntar los conjuntos de datos de `train` y `test` con el objetivo de facilitar el procesamiento, análisis y limpieza de los datos. Se toma esta decisión debido a la presencia de valores nulos y diferencias en varias columnas en el conjunto de prueba.\n",
    "\n",
    "Al juntar los datos, se tendrá cuidado en el tratamiento de los mismos para evitar contaminar el conjunto de entrenamiento con información del conjunto de prueba, previniendo así el sobreajuste del modelo, lo que podría resultar en un rendimiento poco realista al evaluar el modelo con datos no vistos."
   ]
  },
  {
   "cell_type": "markdown",
   "metadata": {},
   "source": [
    "### Incorporación de la columna Dataset\n",
    "\n",
    "Se añade una nueva columna llamada `Dataset` a los conjuntos de datos combinados, antes de concatenarlos, para prevenir la mezcla de información entre ellos y facilitar tanto el análisis como la visualización de los datos."
   ]
  },
  {
   "cell_type": "code",
   "execution_count": 32,
   "metadata": {},
   "outputs": [],
   "source": [
    "df_train['Dataset'] = 'train'\n",
    "df_test['Dataset'] = 'test'"
   ]
  },
  {
   "cell_type": "markdown",
   "metadata": {},
   "source": [
    "Se concatenan los dos DataFrames para apilar sus registros verticalmente."
   ]
  },
  {
   "cell_type": "code",
   "execution_count": null,
   "metadata": {},
   "outputs": [],
   "source": [
    "df = pd.concat([df_train, df_test], axis=0, ignore_index=True)"
   ]
  },
  {
   "cell_type": "markdown",
   "metadata": {},
   "source": [
    "Se comprueba nuevamente que los IDs son únicos."
   ]
  },
  {
   "cell_type": "code",
   "execution_count": 34,
   "metadata": {},
   "outputs": [
    {
     "name": "stdout",
     "output_type": "stream",
     "text": [
      "La columna 'Id' es única: True\n"
     ]
    }
   ],
   "source": [
    "id_unica = df['Id'].is_unique\n",
    "print(f\"La columna 'Id' es única: {id_unica}\")"
   ]
  },
  {
   "cell_type": "markdown",
   "metadata": {},
   "source": [
    "## Análisis Inicial y Visualización de Datos en el DataFrame"
   ]
  },
  {
   "cell_type": "code",
   "execution_count": 35,
   "metadata": {},
   "outputs": [
    {
     "name": "stdout",
     "output_type": "stream",
     "text": [
      "<class 'pandas.core.frame.DataFrame'>\n",
      "RangeIndex: 2919 entries, 0 to 2918\n",
      "Data columns (total 82 columns):\n",
      " #   Column         Non-Null Count  Dtype  \n",
      "---  ------         --------------  -----  \n",
      " 0   Id             2919 non-null   int64  \n",
      " 1   MSSubClass     2919 non-null   int64  \n",
      " 2   MSZoning       2915 non-null   object \n",
      " 3   LotFrontage    2433 non-null   float64\n",
      " 4   LotArea        2919 non-null   int64  \n",
      " 5   Street         2919 non-null   object \n",
      " 6   Alley          198 non-null    object \n",
      " 7   LotShape       2919 non-null   object \n",
      " 8   LandContour    2919 non-null   object \n",
      " 9   Utilities      2917 non-null   object \n",
      " 10  LotConfig      2919 non-null   object \n",
      " 11  LandSlope      2919 non-null   object \n",
      " 12  Neighborhood   2919 non-null   object \n",
      " 13  Condition1     2919 non-null   object \n",
      " 14  Condition2     2919 non-null   object \n",
      " 15  BldgType       2919 non-null   object \n",
      " 16  HouseStyle     2919 non-null   object \n",
      " 17  OverallQual    2919 non-null   int64  \n",
      " 18  OverallCond    2919 non-null   int64  \n",
      " 19  YearBuilt      2919 non-null   int64  \n",
      " 20  YearRemodAdd   2919 non-null   int64  \n",
      " 21  RoofStyle      2919 non-null   object \n",
      " 22  RoofMatl       2919 non-null   object \n",
      " 23  Exterior1st    2918 non-null   object \n",
      " 24  Exterior2nd    2918 non-null   object \n",
      " 25  MasVnrType     1153 non-null   object \n",
      " 26  MasVnrArea     2896 non-null   float64\n",
      " 27  ExterQual      2919 non-null   object \n",
      " 28  ExterCond      2919 non-null   object \n",
      " 29  Foundation     2919 non-null   object \n",
      " 30  BsmtQual       2838 non-null   object \n",
      " 31  BsmtCond       2837 non-null   object \n",
      " 32  BsmtExposure   2837 non-null   object \n",
      " 33  BsmtFinType1   2840 non-null   object \n",
      " 34  BsmtFinSF1     2918 non-null   float64\n",
      " 35  BsmtFinType2   2839 non-null   object \n",
      " 36  BsmtFinSF2     2918 non-null   float64\n",
      " 37  BsmtUnfSF      2918 non-null   float64\n",
      " 38  TotalBsmtSF    2918 non-null   float64\n",
      " 39  Heating        2919 non-null   object \n",
      " 40  HeatingQC      2919 non-null   object \n",
      " 41  CentralAir     2919 non-null   object \n",
      " 42  Electrical     2918 non-null   object \n",
      " 43  1stFlrSF       2919 non-null   int64  \n",
      " 44  2ndFlrSF       2919 non-null   int64  \n",
      " 45  LowQualFinSF   2919 non-null   int64  \n",
      " 46  GrLivArea      2919 non-null   int64  \n",
      " 47  BsmtFullBath   2917 non-null   float64\n",
      " 48  BsmtHalfBath   2917 non-null   float64\n",
      " 49  FullBath       2919 non-null   int64  \n",
      " 50  HalfBath       2919 non-null   int64  \n",
      " 51  BedroomAbvGr   2919 non-null   int64  \n",
      " 52  KitchenAbvGr   2919 non-null   int64  \n",
      " 53  KitchenQual    2918 non-null   object \n",
      " 54  TotRmsAbvGrd   2919 non-null   int64  \n",
      " 55  Functional     2917 non-null   object \n",
      " 56  Fireplaces     2919 non-null   int64  \n",
      " 57  FireplaceQu    1499 non-null   object \n",
      " 58  GarageType     2762 non-null   object \n",
      " 59  GarageYrBlt    2760 non-null   float64\n",
      " 60  GarageFinish   2760 non-null   object \n",
      " 61  GarageCars     2918 non-null   float64\n",
      " 62  GarageArea     2918 non-null   float64\n",
      " 63  GarageQual     2760 non-null   object \n",
      " 64  GarageCond     2760 non-null   object \n",
      " 65  PavedDrive     2919 non-null   object \n",
      " 66  WoodDeckSF     2919 non-null   int64  \n",
      " 67  OpenPorchSF    2919 non-null   int64  \n",
      " 68  EnclosedPorch  2919 non-null   int64  \n",
      " 69  3SsnPorch      2919 non-null   int64  \n",
      " 70  ScreenPorch    2919 non-null   int64  \n",
      " 71  PoolArea       2919 non-null   int64  \n",
      " 72  PoolQC         10 non-null     object \n",
      " 73  Fence          571 non-null    object \n",
      " 74  MiscFeature    105 non-null    object \n",
      " 75  MiscVal        2919 non-null   int64  \n",
      " 76  MoSold         2919 non-null   int64  \n",
      " 77  YrSold         2919 non-null   int64  \n",
      " 78  SaleType       2918 non-null   object \n",
      " 79  SaleCondition  2919 non-null   object \n",
      " 80  SalePrice      1460 non-null   float64\n",
      " 81  Dataset        2919 non-null   object \n",
      "dtypes: float64(12), int64(26), object(44)\n",
      "memory usage: 1.8+ MB\n"
     ]
    }
   ],
   "source": [
    "df.info()"
   ]
  },
  {
   "cell_type": "code",
   "execution_count": 36,
   "metadata": {},
   "outputs": [
    {
     "data": {
      "text/plain": [
       "Index(['Id', 'MSSubClass', 'MSZoning', 'LotFrontage', 'LotArea', 'Street',\n",
       "       'Alley', 'LotShape', 'LandContour', 'Utilities', 'LotConfig',\n",
       "       'LandSlope', 'Neighborhood', 'Condition1', 'Condition2', 'BldgType',\n",
       "       'HouseStyle', 'OverallQual', 'OverallCond', 'YearBuilt', 'YearRemodAdd',\n",
       "       'RoofStyle', 'RoofMatl', 'Exterior1st', 'Exterior2nd', 'MasVnrType',\n",
       "       'MasVnrArea', 'ExterQual', 'ExterCond', 'Foundation', 'BsmtQual',\n",
       "       'BsmtCond', 'BsmtExposure', 'BsmtFinType1', 'BsmtFinSF1',\n",
       "       'BsmtFinType2', 'BsmtFinSF2', 'BsmtUnfSF', 'TotalBsmtSF', 'Heating',\n",
       "       'HeatingQC', 'CentralAir', 'Electrical', '1stFlrSF', '2ndFlrSF',\n",
       "       'LowQualFinSF', 'GrLivArea', 'BsmtFullBath', 'BsmtHalfBath', 'FullBath',\n",
       "       'HalfBath', 'BedroomAbvGr', 'KitchenAbvGr', 'KitchenQual',\n",
       "       'TotRmsAbvGrd', 'Functional', 'Fireplaces', 'FireplaceQu', 'GarageType',\n",
       "       'GarageYrBlt', 'GarageFinish', 'GarageCars', 'GarageArea', 'GarageQual',\n",
       "       'GarageCond', 'PavedDrive', 'WoodDeckSF', 'OpenPorchSF',\n",
       "       'EnclosedPorch', '3SsnPorch', 'ScreenPorch', 'PoolArea', 'PoolQC',\n",
       "       'Fence', 'MiscFeature', 'MiscVal', 'MoSold', 'YrSold', 'SaleType',\n",
       "       'SaleCondition', 'SalePrice', 'Dataset'],\n",
       "      dtype='object')"
      ]
     },
     "execution_count": 36,
     "metadata": {},
     "output_type": "execute_result"
    }
   ],
   "source": [
    "df.columns"
   ]
  },
  {
   "cell_type": "code",
   "execution_count": 37,
   "metadata": {},
   "outputs": [
    {
     "name": "stdout",
     "output_type": "stream",
     "text": [
      "(2919, 82)\n"
     ]
    },
    {
     "data": {
      "text/html": [
       "<div>\n",
       "<style scoped>\n",
       "    .dataframe tbody tr th:only-of-type {\n",
       "        vertical-align: middle;\n",
       "    }\n",
       "\n",
       "    .dataframe tbody tr th {\n",
       "        vertical-align: top;\n",
       "    }\n",
       "\n",
       "    .dataframe thead th {\n",
       "        text-align: right;\n",
       "    }\n",
       "</style>\n",
       "<table border=\"1\" class=\"dataframe\">\n",
       "  <thead>\n",
       "    <tr style=\"text-align: right;\">\n",
       "      <th></th>\n",
       "      <th>Id</th>\n",
       "      <th>MSSubClass</th>\n",
       "      <th>MSZoning</th>\n",
       "      <th>LotFrontage</th>\n",
       "      <th>LotArea</th>\n",
       "      <th>Street</th>\n",
       "      <th>Alley</th>\n",
       "      <th>LotShape</th>\n",
       "      <th>LandContour</th>\n",
       "      <th>Utilities</th>\n",
       "      <th>...</th>\n",
       "      <th>PoolQC</th>\n",
       "      <th>Fence</th>\n",
       "      <th>MiscFeature</th>\n",
       "      <th>MiscVal</th>\n",
       "      <th>MoSold</th>\n",
       "      <th>YrSold</th>\n",
       "      <th>SaleType</th>\n",
       "      <th>SaleCondition</th>\n",
       "      <th>SalePrice</th>\n",
       "      <th>Dataset</th>\n",
       "    </tr>\n",
       "  </thead>\n",
       "  <tbody>\n",
       "    <tr>\n",
       "      <th>0</th>\n",
       "      <td>1</td>\n",
       "      <td>60</td>\n",
       "      <td>RL</td>\n",
       "      <td>65.0</td>\n",
       "      <td>8450</td>\n",
       "      <td>Pave</td>\n",
       "      <td>NaN</td>\n",
       "      <td>Reg</td>\n",
       "      <td>Lvl</td>\n",
       "      <td>AllPub</td>\n",
       "      <td>...</td>\n",
       "      <td>NaN</td>\n",
       "      <td>NaN</td>\n",
       "      <td>NaN</td>\n",
       "      <td>0</td>\n",
       "      <td>2</td>\n",
       "      <td>2008</td>\n",
       "      <td>WD</td>\n",
       "      <td>Normal</td>\n",
       "      <td>208500.0</td>\n",
       "      <td>train</td>\n",
       "    </tr>\n",
       "    <tr>\n",
       "      <th>1</th>\n",
       "      <td>2</td>\n",
       "      <td>20</td>\n",
       "      <td>RL</td>\n",
       "      <td>80.0</td>\n",
       "      <td>9600</td>\n",
       "      <td>Pave</td>\n",
       "      <td>NaN</td>\n",
       "      <td>Reg</td>\n",
       "      <td>Lvl</td>\n",
       "      <td>AllPub</td>\n",
       "      <td>...</td>\n",
       "      <td>NaN</td>\n",
       "      <td>NaN</td>\n",
       "      <td>NaN</td>\n",
       "      <td>0</td>\n",
       "      <td>5</td>\n",
       "      <td>2007</td>\n",
       "      <td>WD</td>\n",
       "      <td>Normal</td>\n",
       "      <td>181500.0</td>\n",
       "      <td>train</td>\n",
       "    </tr>\n",
       "    <tr>\n",
       "      <th>2</th>\n",
       "      <td>3</td>\n",
       "      <td>60</td>\n",
       "      <td>RL</td>\n",
       "      <td>68.0</td>\n",
       "      <td>11250</td>\n",
       "      <td>Pave</td>\n",
       "      <td>NaN</td>\n",
       "      <td>IR1</td>\n",
       "      <td>Lvl</td>\n",
       "      <td>AllPub</td>\n",
       "      <td>...</td>\n",
       "      <td>NaN</td>\n",
       "      <td>NaN</td>\n",
       "      <td>NaN</td>\n",
       "      <td>0</td>\n",
       "      <td>9</td>\n",
       "      <td>2008</td>\n",
       "      <td>WD</td>\n",
       "      <td>Normal</td>\n",
       "      <td>223500.0</td>\n",
       "      <td>train</td>\n",
       "    </tr>\n",
       "    <tr>\n",
       "      <th>3</th>\n",
       "      <td>4</td>\n",
       "      <td>70</td>\n",
       "      <td>RL</td>\n",
       "      <td>60.0</td>\n",
       "      <td>9550</td>\n",
       "      <td>Pave</td>\n",
       "      <td>NaN</td>\n",
       "      <td>IR1</td>\n",
       "      <td>Lvl</td>\n",
       "      <td>AllPub</td>\n",
       "      <td>...</td>\n",
       "      <td>NaN</td>\n",
       "      <td>NaN</td>\n",
       "      <td>NaN</td>\n",
       "      <td>0</td>\n",
       "      <td>2</td>\n",
       "      <td>2006</td>\n",
       "      <td>WD</td>\n",
       "      <td>Abnorml</td>\n",
       "      <td>140000.0</td>\n",
       "      <td>train</td>\n",
       "    </tr>\n",
       "    <tr>\n",
       "      <th>4</th>\n",
       "      <td>5</td>\n",
       "      <td>60</td>\n",
       "      <td>RL</td>\n",
       "      <td>84.0</td>\n",
       "      <td>14260</td>\n",
       "      <td>Pave</td>\n",
       "      <td>NaN</td>\n",
       "      <td>IR1</td>\n",
       "      <td>Lvl</td>\n",
       "      <td>AllPub</td>\n",
       "      <td>...</td>\n",
       "      <td>NaN</td>\n",
       "      <td>NaN</td>\n",
       "      <td>NaN</td>\n",
       "      <td>0</td>\n",
       "      <td>12</td>\n",
       "      <td>2008</td>\n",
       "      <td>WD</td>\n",
       "      <td>Normal</td>\n",
       "      <td>250000.0</td>\n",
       "      <td>train</td>\n",
       "    </tr>\n",
       "  </tbody>\n",
       "</table>\n",
       "<p>5 rows × 82 columns</p>\n",
       "</div>"
      ],
      "text/plain": [
       "   Id  MSSubClass MSZoning  LotFrontage  LotArea Street Alley LotShape   \n",
       "0   1          60       RL         65.0     8450   Pave   NaN      Reg  \\\n",
       "1   2          20       RL         80.0     9600   Pave   NaN      Reg   \n",
       "2   3          60       RL         68.0    11250   Pave   NaN      IR1   \n",
       "3   4          70       RL         60.0     9550   Pave   NaN      IR1   \n",
       "4   5          60       RL         84.0    14260   Pave   NaN      IR1   \n",
       "\n",
       "  LandContour Utilities  ... PoolQC Fence MiscFeature MiscVal MoSold YrSold   \n",
       "0         Lvl    AllPub  ...    NaN   NaN         NaN       0      2   2008  \\\n",
       "1         Lvl    AllPub  ...    NaN   NaN         NaN       0      5   2007   \n",
       "2         Lvl    AllPub  ...    NaN   NaN         NaN       0      9   2008   \n",
       "3         Lvl    AllPub  ...    NaN   NaN         NaN       0      2   2006   \n",
       "4         Lvl    AllPub  ...    NaN   NaN         NaN       0     12   2008   \n",
       "\n",
       "  SaleType  SaleCondition  SalePrice  Dataset  \n",
       "0       WD         Normal   208500.0    train  \n",
       "1       WD         Normal   181500.0    train  \n",
       "2       WD         Normal   223500.0    train  \n",
       "3       WD        Abnorml   140000.0    train  \n",
       "4       WD         Normal   250000.0    train  \n",
       "\n",
       "[5 rows x 82 columns]"
      ]
     },
     "execution_count": 37,
     "metadata": {},
     "output_type": "execute_result"
    }
   ],
   "source": [
    "print(df.shape)\n",
    "df.head()"
   ]
  },
  {
   "cell_type": "code",
   "execution_count": 38,
   "metadata": {},
   "outputs": [
    {
     "data": {
      "image/png": "[encoded data removed]",
      "text/plain": [
       "<Figure size 1000x800 with 1 Axes>"
      ]
     },
     "metadata": {},
     "output_type": "display_data"
    }
   ],
   "source": [
    "plt.figure(figsize=(10, 8))\n",
    "sns.heatmap(df.isnull(), cmap='viridis', cbar=False)\n",
    "plt.title('Visualización de NaNs')\n",
    "plt.xlabel('Columnas')\n",
    "plt.ylabel('Filas')\n",
    "plt.show()"
   ]
  },
  {
   "cell_type": "markdown",
   "metadata": {},
   "source": [
    "Cálculo del porcentaje de Nan's que existen por columnas."
   ]
  },
  {
   "cell_type": "code",
   "execution_count": 41,
   "metadata": {},
   "outputs": [
    {
     "name": "stdout",
     "output_type": "stream",
     "text": [
      "PoolQC          99.657417\n",
      "MiscFeature     96.402878\n",
      "Alley           93.216855\n",
      "Fence           80.438506\n",
      "MasVnrType      60.500171\n",
      "SalePrice       49.982871\n",
      "FireplaceQu     48.646797\n",
      "LotFrontage     16.649538\n",
      "GarageCond       5.447071\n",
      "GarageYrBlt      5.447071\n",
      "GarageFinish     5.447071\n",
      "GarageQual       5.447071\n",
      "GarageType       5.378554\n",
      "BsmtExposure     2.809181\n",
      "BsmtCond         2.809181\n",
      "BsmtQual         2.774923\n",
      "BsmtFinType2     2.740665\n",
      "BsmtFinType1     2.706406\n",
      "MasVnrArea       0.787941\n",
      "MSZoning         0.137033\n",
      "Functional       0.068517\n",
      "BsmtHalfBath     0.068517\n",
      "BsmtFullBath     0.068517\n",
      "Utilities        0.068517\n",
      "KitchenQual      0.034258\n",
      "TotalBsmtSF      0.034258\n",
      "BsmtUnfSF        0.034258\n",
      "GarageCars       0.034258\n",
      "GarageArea       0.034258\n",
      "BsmtFinSF2       0.034258\n",
      "BsmtFinSF1       0.034258\n",
      "Exterior2nd      0.034258\n",
      "Exterior1st      0.034258\n",
      "SaleType         0.034258\n",
      "Electrical       0.034258\n",
      "dtype: float64\n"
     ]
    }
   ],
   "source": [
    "porcentaje_nan = df.isna().sum() / len(df) * 100\n",
    "\n",
    "porcentaje_nan_filtrado = porcentaje_nan[porcentaje_nan > 0].sort_values(ascending=False)\n",
    "\n",
    "\n",
    "print(porcentaje_nan_filtrado)"
   ]
  },
  {
   "cell_type": "markdown",
   "metadata": {},
   "source": [
    "Para garantizar la integridad de los datos y optimizar la eficiencia en la carga, se decide guardar el DataFrame en formato `.pkl`."
   ]
  },
  {
   "cell_type": "code",
   "execution_count": 40,
   "metadata": {},
   "outputs": [],
   "source": [
    "df.to_pickle('../data/Inmobiliaria_Horizonte.pkl')"
   ]
  }
 ],
 "metadata": {
  "kernelspec": {
   "display_name": "Python 3",
   "language": "python",
   "name": "python3"
  },
  "language_info": {
   "codemirror_mode": {
    "name": "ipython",
    "version": 3
   },
   "file_extension": ".py",
   "mimetype": "text/x-python",
   "name": "python",
   "nbconvert_exporter": "python",
   "pygments_lexer": "ipython3",
   "version": "3.11.4"
  }
 },
 "nbformat": 4,
 "nbformat_minor": 2
}
